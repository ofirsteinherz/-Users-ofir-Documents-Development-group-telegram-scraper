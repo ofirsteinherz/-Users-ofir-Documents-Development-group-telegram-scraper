{
 "cells": [
  {
   "cell_type": "markdown",
   "id": "1e28f0ef-c076-4bfa-9ea5-02d3704666bb",
   "metadata": {},
   "source": [
    "# Loading JSON Messages"
   ]
  },
  {
   "cell_type": "code",
   "execution_count": null,
   "id": "bc9e5839-dc79-44db-b73a-868b0746f5bd",
   "metadata": {},
   "outputs": [],
   "source": []
  },
  {
   "cell_type": "code",
   "execution_count": null,
   "id": "a6f57b85-f71c-41a8-a0d3-ce47b9957684",
   "metadata": {},
   "outputs": [],
   "source": []
  },
  {
   "cell_type": "code",
   "execution_count": null,
   "id": "0140cc3a-834c-4612-834f-b16df75239b8",
   "metadata": {},
   "outputs": [],
   "source": []
  },
  {
   "cell_type": "code",
   "execution_count": null,
   "id": "c86163ab-382f-4eac-99e9-226b3004518f",
   "metadata": {},
   "outputs": [],
   "source": []
  },
  {
   "cell_type": "code",
   "execution_count": null,
   "id": "7f807cc7-4e3c-4c41-9ad5-3e74fac10776",
   "metadata": {},
   "outputs": [],
   "source": []
  },
  {
   "cell_type": "code",
   "execution_count": null,
   "id": "1134945a-8eff-4ec0-a867-22a3ac40b422",
   "metadata": {},
   "outputs": [],
   "source": []
  },
  {
   "cell_type": "code",
   "execution_count": null,
   "id": "7ea2c226-67cf-46bf-a5b6-d5f8fef594aa",
   "metadata": {},
   "outputs": [],
   "source": []
  }
 ],
 "metadata": {
  "kernelspec": {
   "display_name": "Python 3 (ipykernel)",
   "language": "python",
   "name": "python3"
  },
  "language_info": {
   "codemirror_mode": {
    "name": "ipython",
    "version": 3
   },
   "file_extension": ".py",
   "mimetype": "text/x-python",
   "name": "python",
   "nbconvert_exporter": "python",
   "pygments_lexer": "ipython3",
   "version": "3.10.7"
  }
 },
 "nbformat": 4,
 "nbformat_minor": 5
}
